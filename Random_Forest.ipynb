{
 "cells": [
  {
   "cell_type": "markdown",
   "id": "2de2fbe3",
   "metadata": {},
   "source": [
    "# Tarea Final - Machine Learning\n",
    "\n",
    "Alumno: Guillermo Lodeiro\n",
    "\n",
    "Profesores: Jose Angel Carballo, Luis Garmendia, María José Gómez\n",
    "\n",
    "Institución: Universidad Complutense de Madrid\n",
    "\n",
    "Al correr Pycaret en mi data preprocesada, la mejor opción encontrada fue Random Forest. De esta forma, fui armando mi proceso de prueba de modelo. Comienzo por utilizar Randomized Search de sklearn, herramienta que fue muy útil para encontrar los hiperparámeteros optimos. En esta parte tambien me interiorice con los parámetros de esta herramienta, como n_jobs para utilizar el máximo rendimiento de mi pc. En cuanto a medir el rendimiento de mi modelo, opte por utilizar cross validation de sklearn y feature importances para analizar el peso de cada variable en el modelo."
   ]
  },
  {
   "cell_type": "code",
   "execution_count": 1,
   "id": "12173990",
   "metadata": {},
   "outputs": [],
   "source": [
    "import pandas as pd"
   ]
  },
  {
   "cell_type": "code",
   "execution_count": 2,
   "id": "8749fbe3",
   "metadata": {},
   "outputs": [],
   "source": [
    "data_train = pd.read_csv(\"training_set_values_pp6.csv\")"
   ]
  },
  {
   "cell_type": "code",
   "execution_count": 3,
   "id": "005dd2c1",
   "metadata": {},
   "outputs": [],
   "source": [
    "data_test = pd.read_csv(\"test_set_values_pp6.csv\")"
   ]
  },
  {
   "cell_type": "code",
   "execution_count": 4,
   "id": "eab51669",
   "metadata": {},
   "outputs": [],
   "source": [
    "data_labels = data_train[\"status_group\"]\n",
    "data_train.drop(['status_group'], axis=1, inplace=True)"
   ]
  },
  {
   "cell_type": "code",
   "execution_count": 5,
   "id": "935d15d6",
   "metadata": {},
   "outputs": [
    {
     "name": "stdout",
     "output_type": "stream",
     "text": [
      "Mejores hiperparámetros: {'max_depth': 23, 'max_features': 'log2', 'min_samples_leaf': 1, 'min_samples_split': 3, 'n_estimators': 1396}\n"
     ]
    }
   ],
   "source": [
    "from sklearn.model_selection import RandomizedSearchCV\n",
    "from sklearn.ensemble import RandomForestClassifier\n",
    "from scipy.stats import randint\n",
    "\n",
    "# Define el espacio de búsqueda para los hiperparámetros\n",
    "param_dist = {\n",
    "    'n_estimators': randint(500, 1500),\n",
    "    'max_depth': randint(15, 25),\n",
    "    'min_samples_split': randint(2, 20),\n",
    "    'min_samples_leaf': randint(1, 10),\n",
    "    'max_features': ['sqrt', 'log2']\n",
    "}\n",
    "\n",
    "# Inicializa la búsqueda aleatoria con validación cruzada\n",
    "random_search = RandomizedSearchCV(\n",
    "    estimator=RandomForestClassifier(random_state=42),\n",
    "    param_distributions=param_dist,\n",
    "    n_iter=100,  # Número de iteraciones (muestreo de hiperparámetros)\n",
    "    cv=5,        # Número de pliegues de validación cruzada\n",
    "    random_state=42,\n",
    "    n_jobs=-1    # Utiliza todos los núcleos de CPU disponibles\n",
    ")\n",
    "\n",
    "# Entrena el modelo con el conjunto de datos\n",
    "random_search.fit(data_train, data_labels)\n",
    "\n",
    "# Muestra los mejores hiperparámetros encontrados\n",
    "print(\"Mejores hiperparámetros:\", random_search.best_params_)\n",
    " "
   ]
  },
  {
   "cell_type": "code",
   "execution_count": 21,
   "id": "99cedcd1",
   "metadata": {},
   "outputs": [],
   "source": [
    "from sklearn.ensemble import RandomForestClassifier\n",
    "\n",
    "# Inicializar clasificador\n",
    "rf_classifier = RandomForestClassifier(max_depth= 23, max_features= 'log2', min_samples_leaf= 1, min_samples_split= 3,\n",
    "                                       n_estimators= 1396, random_state=42)\n",
    "\n",
    "# Entrenar clasificador\n",
    "rf_classifier.fit(data_train, data_labels)\n",
    "\n",
    "# Realizar predicciones en el conjunto de prueba\n",
    "predictions = rf_classifier.predict(data_test)"
   ]
  },
  {
   "cell_type": "code",
   "execution_count": 22,
   "id": "d27400dd",
   "metadata": {},
   "outputs": [
    {
     "name": "stdout",
     "output_type": "stream",
     "text": [
      "Puntajes de validación cruzada: [0.79234366 0.78695411 0.80827455 0.84606848 0.85042803]\n",
      "Precisión media: 0.8168137670842889\n"
     ]
    }
   ],
   "source": [
    "from sklearn.model_selection import cross_val_score\n",
    "\n",
    "# Realiza la validación cruzada con 5 particiones\n",
    "scores = cross_val_score(rf_classifier, data_train, data_labels, cv=5)\n",
    "\n",
    "# Muestra los puntajes de validación cruzada\n",
    "print(\"Puntajes de validación cruzada:\", scores)\n",
    "print(\"Precisión media:\", scores.mean())"
   ]
  },
  {
   "cell_type": "code",
   "execution_count": 23,
   "id": "29d14fa8",
   "metadata": {
    "scrolled": false
   },
   "outputs": [
    {
     "data": {
      "text/html": [
       "<div>\n",
       "<style scoped>\n",
       "    .dataframe tbody tr th:only-of-type {\n",
       "        vertical-align: middle;\n",
       "    }\n",
       "\n",
       "    .dataframe tbody tr th {\n",
       "        vertical-align: top;\n",
       "    }\n",
       "\n",
       "    .dataframe thead th {\n",
       "        text-align: right;\n",
       "    }\n",
       "</style>\n",
       "<table border=\"1\" class=\"dataframe\">\n",
       "  <thead>\n",
       "    <tr style=\"text-align: right;\">\n",
       "      <th></th>\n",
       "      <th>Importance</th>\n",
       "    </tr>\n",
       "  </thead>\n",
       "  <tbody>\n",
       "    <tr>\n",
       "      <th>distance</th>\n",
       "      <td>0.076934</td>\n",
       "    </tr>\n",
       "    <tr>\n",
       "      <th>longitude</th>\n",
       "      <td>0.075792</td>\n",
       "    </tr>\n",
       "    <tr>\n",
       "      <th>latitude</th>\n",
       "      <td>0.074914</td>\n",
       "    </tr>\n",
       "    <tr>\n",
       "      <th>quantity_group_dry</th>\n",
       "      <td>0.074841</td>\n",
       "    </tr>\n",
       "    <tr>\n",
       "      <th>date_recorded</th>\n",
       "      <td>0.050378</td>\n",
       "    </tr>\n",
       "    <tr>\n",
       "      <th>ward</th>\n",
       "      <td>0.037161</td>\n",
       "    </tr>\n",
       "    <tr>\n",
       "      <th>population</th>\n",
       "      <td>0.034485</td>\n",
       "    </tr>\n",
       "    <tr>\n",
       "      <th>waterpoint_type_group_other</th>\n",
       "      <td>0.031442</td>\n",
       "    </tr>\n",
       "    <tr>\n",
       "      <th>quantity_group_enough</th>\n",
       "      <td>0.031373</td>\n",
       "    </tr>\n",
       "    <tr>\n",
       "      <th>extraction_type_class_other</th>\n",
       "      <td>0.027186</td>\n",
       "    </tr>\n",
       "    <tr>\n",
       "      <th>quantity_group_insufficient</th>\n",
       "      <td>0.019448</td>\n",
       "    </tr>\n",
       "    <tr>\n",
       "      <th>payment_type_never pay</th>\n",
       "      <td>0.017657</td>\n",
       "    </tr>\n",
       "    <tr>\n",
       "      <th>extraction_type_class_gravity</th>\n",
       "      <td>0.014311</td>\n",
       "    </tr>\n",
       "    <tr>\n",
       "      <th>extraction_type_class_handpump</th>\n",
       "      <td>0.012357</td>\n",
       "    </tr>\n",
       "    <tr>\n",
       "      <th>waterpoint_type_group_communal standpipe</th>\n",
       "      <td>0.012234</td>\n",
       "    </tr>\n",
       "    <tr>\n",
       "      <th>waterpoint_type_group_hand pump</th>\n",
       "      <td>0.011059</td>\n",
       "    </tr>\n",
       "    <tr>\n",
       "      <th>funder_Other</th>\n",
       "      <td>0.010742</td>\n",
       "    </tr>\n",
       "    <tr>\n",
       "      <th>construction_decade_2000</th>\n",
       "      <td>0.009942</td>\n",
       "    </tr>\n",
       "    <tr>\n",
       "      <th>source_type_spring</th>\n",
       "      <td>0.009539</td>\n",
       "    </tr>\n",
       "    <tr>\n",
       "      <th>payment_type_monthly</th>\n",
       "      <td>0.009167</td>\n",
       "    </tr>\n",
       "  </tbody>\n",
       "</table>\n",
       "</div>"
      ],
      "text/plain": [
       "                                          Importance\n",
       "distance                                    0.076934\n",
       "longitude                                   0.075792\n",
       "latitude                                    0.074914\n",
       "quantity_group_dry                          0.074841\n",
       "date_recorded                               0.050378\n",
       "ward                                        0.037161\n",
       "population                                  0.034485\n",
       "waterpoint_type_group_other                 0.031442\n",
       "quantity_group_enough                       0.031373\n",
       "extraction_type_class_other                 0.027186\n",
       "quantity_group_insufficient                 0.019448\n",
       "payment_type_never pay                      0.017657\n",
       "extraction_type_class_gravity               0.014311\n",
       "extraction_type_class_handpump              0.012357\n",
       "waterpoint_type_group_communal standpipe    0.012234\n",
       "waterpoint_type_group_hand pump             0.011059\n",
       "funder_Other                                0.010742\n",
       "construction_decade_2000                    0.009942\n",
       "source_type_spring                          0.009539\n",
       "payment_type_monthly                        0.009167"
      ]
     },
     "execution_count": 23,
     "metadata": {},
     "output_type": "execute_result"
    }
   ],
   "source": [
    "# Obtener la importancia de las características\n",
    "importances = rf_classifier.feature_importances_\n",
    "\n",
    "# Crear un DataFrame para mostrar las importancias junto con el nombre de las características\n",
    "feature_importances = pd.DataFrame(importances, index=data_train.columns, columns=['Importance'])\n",
    "\n",
    "# Ordenar las características por su importancia de mayor a menor\n",
    "feature_importances = feature_importances.sort_values(by='Importance', ascending=False)\n",
    "\n",
    "# Mostrar las características ordenadas por su importancia\n",
    "feature_importances.head(20)"
   ]
  },
  {
   "cell_type": "code",
   "execution_count": 24,
   "id": "b92cb55d",
   "metadata": {},
   "outputs": [
    {
     "data": {
      "text/plain": [
       "array([2, 0, 0, ..., 0, 0, 2], dtype=int64)"
      ]
     },
     "execution_count": 24,
     "metadata": {},
     "output_type": "execute_result"
    }
   ],
   "source": [
    "predictions"
   ]
  },
  {
   "cell_type": "code",
   "execution_count": 25,
   "id": "525bf100",
   "metadata": {},
   "outputs": [],
   "source": [
    "predictions_rf = pd.DataFrame(predictions, columns=['status_group'])"
   ]
  },
  {
   "cell_type": "code",
   "execution_count": 26,
   "id": "d38c295f",
   "metadata": {},
   "outputs": [
    {
     "data": {
      "text/plain": [
       "status_group\n",
       "0               9187\n",
       "2               5048\n",
       "1                615\n",
       "Name: count, dtype: int64"
      ]
     },
     "execution_count": 26,
     "metadata": {},
     "output_type": "execute_result"
    }
   ],
   "source": [
    "predictions_rf.value_counts()"
   ]
  },
  {
   "cell_type": "code",
   "execution_count": null,
   "id": "90879a50",
   "metadata": {},
   "outputs": [],
   "source": []
  },
  {
   "cell_type": "code",
   "execution_count": 27,
   "id": "573c2682",
   "metadata": {},
   "outputs": [],
   "source": [
    "columnas_train = pd.read_csv('Test_Set_Values.csv')"
   ]
  },
  {
   "cell_type": "code",
   "execution_count": 28,
   "id": "e25db3bc",
   "metadata": {},
   "outputs": [],
   "source": [
    "columna_id = columnas_train['id']"
   ]
  },
  {
   "cell_type": "code",
   "execution_count": 29,
   "id": "d4b01d51",
   "metadata": {},
   "outputs": [],
   "source": [
    "df_columna_id = pd.DataFrame(columna_id)"
   ]
  },
  {
   "cell_type": "code",
   "execution_count": 30,
   "id": "fc012f6b",
   "metadata": {},
   "outputs": [],
   "source": [
    "intento_rf = pd.concat([df_columna_id['id'], predictions_rf['status_group']], axis=1)"
   ]
  },
  {
   "cell_type": "code",
   "execution_count": 31,
   "id": "4c0b27e7",
   "metadata": {},
   "outputs": [
    {
     "data": {
      "text/html": [
       "<div>\n",
       "<style scoped>\n",
       "    .dataframe tbody tr th:only-of-type {\n",
       "        vertical-align: middle;\n",
       "    }\n",
       "\n",
       "    .dataframe tbody tr th {\n",
       "        vertical-align: top;\n",
       "    }\n",
       "\n",
       "    .dataframe thead th {\n",
       "        text-align: right;\n",
       "    }\n",
       "</style>\n",
       "<table border=\"1\" class=\"dataframe\">\n",
       "  <thead>\n",
       "    <tr style=\"text-align: right;\">\n",
       "      <th></th>\n",
       "      <th>id</th>\n",
       "      <th>status_group</th>\n",
       "    </tr>\n",
       "  </thead>\n",
       "  <tbody>\n",
       "    <tr>\n",
       "      <th>0</th>\n",
       "      <td>50785</td>\n",
       "      <td>2</td>\n",
       "    </tr>\n",
       "    <tr>\n",
       "      <th>1</th>\n",
       "      <td>51630</td>\n",
       "      <td>0</td>\n",
       "    </tr>\n",
       "    <tr>\n",
       "      <th>2</th>\n",
       "      <td>17168</td>\n",
       "      <td>0</td>\n",
       "    </tr>\n",
       "    <tr>\n",
       "      <th>3</th>\n",
       "      <td>45559</td>\n",
       "      <td>2</td>\n",
       "    </tr>\n",
       "    <tr>\n",
       "      <th>4</th>\n",
       "      <td>49871</td>\n",
       "      <td>0</td>\n",
       "    </tr>\n",
       "    <tr>\n",
       "      <th>...</th>\n",
       "      <td>...</td>\n",
       "      <td>...</td>\n",
       "    </tr>\n",
       "    <tr>\n",
       "      <th>14845</th>\n",
       "      <td>39307</td>\n",
       "      <td>2</td>\n",
       "    </tr>\n",
       "    <tr>\n",
       "      <th>14846</th>\n",
       "      <td>18990</td>\n",
       "      <td>0</td>\n",
       "    </tr>\n",
       "    <tr>\n",
       "      <th>14847</th>\n",
       "      <td>28749</td>\n",
       "      <td>0</td>\n",
       "    </tr>\n",
       "    <tr>\n",
       "      <th>14848</th>\n",
       "      <td>33492</td>\n",
       "      <td>0</td>\n",
       "    </tr>\n",
       "    <tr>\n",
       "      <th>14849</th>\n",
       "      <td>68707</td>\n",
       "      <td>2</td>\n",
       "    </tr>\n",
       "  </tbody>\n",
       "</table>\n",
       "<p>14850 rows × 2 columns</p>\n",
       "</div>"
      ],
      "text/plain": [
       "          id  status_group\n",
       "0      50785             2\n",
       "1      51630             0\n",
       "2      17168             0\n",
       "3      45559             2\n",
       "4      49871             0\n",
       "...      ...           ...\n",
       "14845  39307             2\n",
       "14846  18990             0\n",
       "14847  28749             0\n",
       "14848  33492             0\n",
       "14849  68707             2\n",
       "\n",
       "[14850 rows x 2 columns]"
      ]
     },
     "execution_count": 31,
     "metadata": {},
     "output_type": "execute_result"
    }
   ],
   "source": [
    "intento_rf"
   ]
  },
  {
   "cell_type": "code",
   "execution_count": 32,
   "id": "f6968de3",
   "metadata": {},
   "outputs": [],
   "source": [
    "intento_rf['status_group'] = intento_rf['status_group'].replace({2: 'non functional', 1: 'functional needs repair', 0: 'functional'})"
   ]
  },
  {
   "cell_type": "code",
   "execution_count": null,
   "id": "cf6f300d",
   "metadata": {},
   "outputs": [],
   "source": []
  },
  {
   "cell_type": "code",
   "execution_count": 33,
   "id": "1f65441a",
   "metadata": {},
   "outputs": [],
   "source": [
    "intento_rf.to_csv(\"random_forest_pp6_smote.csv\", index = False)"
   ]
  },
  {
   "cell_type": "code",
   "execution_count": null,
   "id": "c3a91d34",
   "metadata": {},
   "outputs": [],
   "source": []
  }
 ],
 "metadata": {
  "kernelspec": {
   "display_name": "Python 3 (ipykernel)",
   "language": "python",
   "name": "python3"
  },
  "language_info": {
   "codemirror_mode": {
    "name": "ipython",
    "version": 3
   },
   "file_extension": ".py",
   "mimetype": "text/x-python",
   "name": "python",
   "nbconvert_exporter": "python",
   "pygments_lexer": "ipython3",
   "version": "3.11.7"
  }
 },
 "nbformat": 4,
 "nbformat_minor": 5
}
